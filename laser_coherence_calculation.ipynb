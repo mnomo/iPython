{
 "metadata": {
  "name": "Laser Coherence Calculation.ipynb"
 },
 "nbformat": 3,
 "nbformat_minor": 0,
 "worksheets": [
  {
   "cells": [
    {
     "cell_type": "markdown",
     "metadata": {},
     "source": [
      "#Laser Coherence Length Calculation\n",
      "\n",
      "---\n",
      "\n",
      "Rev: 0.1\n",
      "\n",
      "Last Update: December 10, 2013"
     ]
    },
    {
     "cell_type": "markdown",
     "metadata": {},
     "source": [
      "##Setup Environment"
     ]
    },
    {
     "cell_type": "code",
     "collapsed": false,
     "input": [
      "#Import sympy\n",
      "from sympy import *\n",
      "\n",
      "# Setup iPython for formatted output\n",
      "%load_ext sympy.interactive.ipythonprinting"
     ],
     "language": "python",
     "metadata": {},
     "outputs": [
      {
       "output_type": "stream",
       "stream": "stderr",
       "text": [
        "/Users/Michael/Library/Enthought/Canopy_64bit/User/lib/python2.7/site-packages/sympy/utilities/exceptions.py:149: SymPyDeprecationWarning: \n",
        "\n",
        "using %load_ext sympy.interactive.ipythonprinting has been deprecated\n",
        "since SymPy 0.7.3. Use from sympy import init_printing ;\n",
        "init_printing() instead. See\n",
        "http://code.google.com/p/sympy/issues/detail?id=3914 for more info.\n",
        "\n",
        "  warning(see_above, SymPyDeprecationWarning)\n"
       ]
      }
     ],
     "prompt_number": 1
    },
    {
     "cell_type": "markdown",
     "metadata": {},
     "source": [
      "##Theory\n",
      "\n",
      "In theory the laser coherence will drop to zero when the extremes of the laser linewidth wavelengths are out of phase by $\\pi$ radians.  Due to the slight difference in wavelength between the high and low edges of the laser line width they will see a slightly different phase change as the light propagates.  The location where the difference in the phase change at the high an low edges of the linewidth is $\\pi$ radians is loosely called the coherence length.  Typically one does not want the coherence dropping to zero in the application and the coherence length might be specified at a different reduction in coherence.  For simplicity, the derivation below will be for the case where the coherence drops to zero.\n",
      "\n",
      "## Derivation of Coherence Length\n",
      "Define symbols:"
     ]
    },
    {
     "cell_type": "code",
     "collapsed": false,
     "input": [
      "n, d, L, L1, L2, dL = symbols(\"n, d, lambda, lambda_1, lambda_2, Delta_lambda\")"
     ],
     "language": "python",
     "metadata": {},
     "outputs": [],
     "prompt_number": 2
    },
    {
     "cell_type": "markdown",
     "metadata": {},
     "source": [
      "n is the index of refraction, d is the distance the light travels and $\\lambda$ is the center wavelength of the laser.  $\\lambda_1$ and $\\lambda_2$ are the upper and lower wavelength cutoffs for the laser linewidth, the extremes in wavelength.  Finally, $\\lambda_\\delta$ is the difference in wavelength between the upper and lower cutoffs of the linewidth.  The phase of the light at $\\lambda_1$ and $\\lambda_2$ after propagation are given by:"
     ]
    },
    {
     "cell_type": "code",
     "collapsed": false,
     "input": [
      "phi1 = 2*pi*n*d / L1\n",
      "phi2 = 2*pi*n*d / L2"
     ],
     "language": "python",
     "metadata": {},
     "outputs": [],
     "prompt_number": 3
    },
    {
     "cell_type": "markdown",
     "metadata": {},
     "source": [
      "$\\phi_1$ is the phase change for $\\lambda_1$ and $\\phi_2$ is the phase change for $\\lambda_2$.\n",
      "\n",
      "Setting the difference between the phase changes equal to $\\pi$ and solving for d results in the coherence length."
     ]
    },
    {
     "cell_type": "code",
     "collapsed": false,
     "input": [
      "cl = solve((phi2-phi1)-pi,d)\n",
      "cl[0]"
     ],
     "language": "python",
     "metadata": {},
     "outputs": [
      {
       "latex": [
        "$$\\frac{\\lambda_{1} \\lambda_{2}}{2 n \\left(\\lambda_{1} - \\lambda_{2}\\right)}$$"
       ],
       "metadata": {},
       "output_type": "pyout",
       "png": "[encoded data removed]",
       "prompt_number": 4,
       "text": [
        "    \u03bb\u2081\u22c5\u03bb\u2082    \n",
        "\u2500\u2500\u2500\u2500\u2500\u2500\u2500\u2500\u2500\u2500\u2500\u2500\u2500\n",
        "2\u22c5n\u22c5(\u03bb\u2081 - \u03bb\u2082)"
       ]
      }
     ],
     "prompt_number": 4
    },
    {
     "cell_type": "markdown",
     "metadata": {},
     "source": [
      "Assuming that the linewidth is symmetrical one can substitute $\\lambda^2$ for $\\lambda_1 \\lambda_2$.  In addition, $\\lambda_1-\\lambda_2$ can be replaced by $\\lambda_\\delta$, where $\\Delta_\\lambda$ is the linewidth of the laser."
     ]
    },
    {
     "cell_type": "code",
     "collapsed": false,
     "input": [
      "cl = cl[0].subs(L1*L2,L**2).subs(L1-L2,dL)\n",
      "cl"
     ],
     "language": "python",
     "metadata": {},
     "outputs": [
      {
       "latex": [
        "$$\\frac{\\lambda^{2}}{2 \\Delta_{\\lambda} n}$$"
       ],
       "metadata": {},
       "output_type": "pyout",
       "png": "[encoded data removed]",
       "prompt_number": 5,
       "text": [
        "        2       \n",
        "       \u03bb        \n",
        "\u2500\u2500\u2500\u2500\u2500\u2500\u2500\u2500\u2500\u2500\u2500\u2500\u2500\u2500\u2500\u2500\n",
        "2\u22c5Delta_lambda\u22c5n"
       ]
      }
     ],
     "prompt_number": 5
    },
    {
     "cell_type": "markdown",
     "metadata": {},
     "source": [
      "## Linewidth in Frequency Space\n",
      "\n",
      "More often than not the linewidth of the laser is defined in frequency space, $\\Delta_\\nu$.  Before substituting, the relationship between $\\Delta_\\lambda$ and $\\Delta_\\nu$ needs to be developed.\n",
      "\n",
      "Define new symbols:"
     ]
    },
    {
     "cell_type": "code",
     "collapsed": false,
     "input": [
      "c, nu, dnu = symbols(\"c, nu, Delta_nu\")"
     ],
     "language": "python",
     "metadata": {},
     "outputs": [],
     "prompt_number": 6
    },
    {
     "cell_type": "markdown",
     "metadata": {},
     "source": [
      "The governing relationship between wavelenght and frequency is:\n",
      "\n",
      "$$\\nu = \\dfrac{c}{\\lambda}$$\n",
      "\n",
      "Taking the derivative provides the following relationship:"
     ]
    },
    {
     "cell_type": "code",
     "collapsed": false,
     "input": [
      "deltaNu = diff(c/L,L)*dL\n",
      "deltaNu"
     ],
     "language": "python",
     "metadata": {},
     "outputs": [
      {
       "latex": [
        "$$- \\frac{\\Delta_{\\lambda} c}{\\lambda^{2}}$$"
       ],
       "metadata": {},
       "output_type": "pyout",
       "png": "[encoded data removed]",
       "prompt_number": 7,
       "text": [
        "-Delta_lambda\u22c5c \n",
        "\u2500\u2500\u2500\u2500\u2500\u2500\u2500\u2500\u2500\u2500\u2500\u2500\u2500\u2500\u2500\u2500\n",
        "        2       \n",
        "       \u03bb        "
       ]
      }
     ],
     "prompt_number": 7
    },
    {
     "cell_type": "markdown",
     "metadata": {},
     "source": [
      "Solveing for $\\Delta_\\lambda$ facilitates a simple substitution."
     ]
    },
    {
     "cell_type": "code",
     "collapsed": false,
     "input": [
      "deltaLambda=solve(deltaNu-dnu,dL)\n",
      "deltaLambda[0]"
     ],
     "language": "python",
     "metadata": {},
     "outputs": [
      {
       "latex": [
        "$$- \\frac{\\Delta_{\\nu} \\lambda^{2}}{c}$$"
       ],
       "metadata": {},
       "output_type": "pyout",
       "png": "[encoded data removed]",
       "prompt_number": 8,
       "text": [
        "           2 \n",
        "-Delta_nu\u22c5\u03bb  \n",
        "\u2500\u2500\u2500\u2500\u2500\u2500\u2500\u2500\u2500\u2500\u2500\u2500\u2500\n",
        "      c      "
       ]
      }
     ],
     "prompt_number": 8
    },
    {
     "cell_type": "markdown",
     "metadata": {},
     "source": [
      "Substituting for $\\Delta_\\lambda$ in the coherence length formula above casts the expression in terms of a linwidth defined in frequency space."
     ]
    },
    {
     "cell_type": "code",
     "collapsed": false,
     "input": [
      "cl.subs(dL,deltaLambda[0])"
     ],
     "language": "python",
     "metadata": {},
     "outputs": [
      {
       "latex": [
        "$$- \\frac{c}{2 \\Delta_{\\nu} n}$$"
       ],
       "metadata": {},
       "output_type": "pyout",
       "png": "[encoded data removed]",
       "prompt_number": 9,
       "text": [
        "    -c      \n",
        "\u2500\u2500\u2500\u2500\u2500\u2500\u2500\u2500\u2500\u2500\u2500\u2500\n",
        "2\u22c5Delta_nu\u22c5n"
       ]
      }
     ],
     "prompt_number": 9
    },
    {
     "cell_type": "markdown",
     "metadata": {},
     "source": [
      "##Results\n",
      "\n",
      "Linewidth in wavelength space\n",
      "$$l_c = \\dfrac{\\lambda^2}{2n\\Delta_\\lambda}$$\n",
      "\n",
      "Linewidth in frequency space\n",
      "$$l_c = \\dfrac{c}{2n\\Delta_\\nu}$$"
     ]
    }
   ],
   "metadata": {}
  }
 ]
}