{
 "metadata": {
  "name": "Aspheric Surface Generator.ipynb"
 },
 "nbformat": 3,
 "nbformat_minor": 0,
 "worksheets": [
  {
   "cells": [
    {
     "cell_type": "markdown",
     "metadata": {},
     "source": [
      "# Aspheric Surface Generator\n",
      "\n",
      "---\n",
      "\n",
      "\n",
      "Revision: 0.1\n",
      "\n",
      "Last Update: 20131205\n",
      "\n",
      "This notebook generates even asphereic surfaces using the definition in optical shop testing.  The higher order terms use a normalized coordinate system such that the departure at the edge for the term is equal to the coefficient.\n",
      "\n",
      "The resulting surface is witten in a 4sight compatible csv file."
     ]
    },
    {
     "cell_type": "markdown",
     "metadata": {},
     "source": [
      "###Governing Equation\n",
      "\n",
      "$$z = \\dfrac{cS^2}{1+[1-(\\kappa+1)c^2S^2]^{1/2}}+A_1S'^4+A_2S'^6+A_3S'^8+A_4S'^{10}$$\n",
      "\n",
      "$~~~~~~~~~~\\text{z} = \\text{sag}$\n",
      "\n",
      "$~~~~~~~~~~\\text{c} = \\text{curvature} = \\frac{1}{\\text{Radius of Curvature}}$\n",
      "\n",
      "$~~~~~~~~~~\\kappa = \\text{Conic Constant}$\n",
      "\n",
      "$~~~~~~~~~~S = \\text{Radial distance in real units}$\n",
      "\n",
      "$~~~~~~~~~~S' = \\text{Normalized radial distance such that }S' = 1\\text{ when }S = S_{max}$\n",
      "\n",
      "$~~~~~~~~~~A_n = \\text{Higher order term coefficient.  Value is equal to contribution at the edge of the aperture.}$\n",
      "\n"
     ]
    },
    {
     "cell_type": "markdown",
     "metadata": {},
     "source": [
      "## Define Constants"
     ]
    },
    {
     "cell_type": "code",
     "collapsed": false,
     "input": [
      "# array size and center offset in pixels\n",
      "arraySizeX = 1000.0\n",
      "arraySizeY = arraySizeX\n",
      "arrayOffsetX = -0.5\n",
      "arrayOffsetY = -0.5\n",
      "\n",
      "# Array length in mm\n",
      "arrayLength = 1.1 * 20\n",
      "\n",
      "# Wavelength (nm)\n",
      "wavelength = 633.0\n",
      "\n",
      "# Physical pupil diameter in mm\n",
      "diameter = 20\n",
      "\n",
      "# Radius of curvature in mm\n",
      "radiusOfCurvature = 20\n",
      "\n",
      "# Conic Constant\n",
      "k = -1\n",
      "\n",
      "# Higher Order Coeficients in Waves\n",
      "a1 = 0.0\n",
      "a2 = 0.0\n",
      "a3 = 0.0\n",
      "a4 = 0.0\n",
      "\n",
      "# Radius of currvature in mm for test wavefront\n",
      "radiusOfCurvatureTest = 1.0015 * radiusOfCurvature"
     ],
     "language": "python",
     "metadata": {},
     "outputs": [],
     "prompt_number": 1
    },
    {
     "cell_type": "markdown",
     "metadata": {},
     "source": [
      "##Assign Base Plot Style"
     ]
    },
    {
     "cell_type": "code",
     "collapsed": false,
     "input": [
      "import json\n",
      "s = json.load( open(\"../styles/bmh_matplotlibrc.json\") )\n",
      "matplotlib.rcParams.update(s)"
     ],
     "language": "python",
     "metadata": {},
     "outputs": [],
     "prompt_number": 2
    },
    {
     "cell_type": "markdown",
     "metadata": {},
     "source": [
      "###Ensure entered values are in correct cast"
     ]
    },
    {
     "cell_type": "code",
     "collapsed": false,
     "input": [
      "arraySizeX = float(arraySizeX)\n",
      "arraySizeY = float(arraySizeY)\n",
      "arrayOffsetX = float(arrayOffsetX)\n",
      "arrayOffsetY = float(arrayOffsetY)\n",
      "arrayLength = float(arrayLength)\n",
      "wavelength = float(wavelength)\n",
      "diameter = float(diameter)\n",
      "radiusOfCurvature = float(radiusOfCurvature)\n",
      "radiusOfCurvatureTest = float(radiusOfCurvatureTest)\n",
      "k = float(k)\n",
      "a1 = float(a1)\n",
      "a2 = float(a2)\n",
      "a3 = float(a3)\n",
      "a4 = float(a4)"
     ],
     "language": "python",
     "metadata": {},
     "outputs": [],
     "prompt_number": 3
    },
    {
     "cell_type": "markdown",
     "metadata": {},
     "source": [
      "## Generate Output File Name"
     ]
    },
    {
     "cell_type": "code",
     "collapsed": false,
     "input": [
      "if k < 0:\n",
      "    fileName = 'R' + str(int(radiusOfCurvature)) + '_D' + str(int(diameter)) + \\\n",
      "                   '_A' + str(int(arrayLength)) + '_Km' + str(int(abs(k))) + '_a1' + \\\n",
      "                       str(int(a1)) + '_a2' + str(int(a2)) + '_a3' + str(int(a3)) + \\\n",
      "                           '_a4' + str(int(a4)) + '_N' + str(int(arraySizeX)) + '_waves.csv'\n",
      "\n",
      "    fileNameBFS = 'R' + str(int(radiusOfCurvature)) + '_D' + str(int(diameter)) + \\\n",
      "                   '_A' + str(int(arrayLength)) + '_Km' + str(int(abs(k))) + '_a1' + \\\n",
      "                       str(int(a1)) + '_a2' + str(int(a2)) + '_a3' + str(int(a3)) + \\\n",
      "                           '_a4' + str(int(a4)) + '_N' + str(int(arraySizeX)) + '_waves_BFS.csv'\n",
      "                \n",
      "else:\n",
      "    fileName = 'R' + str(int(radiusOfCurvature)) + '_D' + str(int(diameter)) + \\\n",
      "                   '_A' + str(int(arrayLength)) + '_K' + str(int(k)) + '_a1' + \\\n",
      "                       str(int(a1)) + '_a2' + str(int(a2)) + '_a3' + str(int(a3)) + \\\n",
      "                           '_a4' + str(int(a4)) + '_N' + str(int(arraySizeX)) + '_waves.csv'\n",
      "                \n",
      "    fileNameBFS = 'R' + str(int(radiusOfCurvature)) + '_D' + str(int(diameter)) + \\\n",
      "                   '_A' + str(int(arrayLength)) + '_K' + str(int(k)) + '_a1' + \\\n",
      "                       str(int(a1)) + '_a2' + str(int(a2)) + '_a3' + str(int(a3)) + \\\n",
      "                           '_a4' + str(int(a4)) + '_N' + str(int(arraySizeX)) + '_waves_BFS.csv'"
     ],
     "language": "python",
     "metadata": {},
     "outputs": [],
     "prompt_number": 4
    },
    {
     "cell_type": "markdown",
     "metadata": {},
     "source": [
      "## Define functions for calculating the asphereic surface and generating a normalized array"
     ]
    },
    {
     "cell_type": "code",
     "collapsed": false,
     "input": [
      "def GetAsphericValue(c, k, s, sNorm, a1, a2, a3, a4):\n",
      "    return c * s**2 / (1 + sqrt(1 - (k + 1) * c**2 * s**2)) \\\n",
      "                 + a1 * sNorm**4 + a2 * sNorm**6 + a3 * sNorm**8 + a4 * sNorm**10"
     ],
     "language": "python",
     "metadata": {},
     "outputs": [],
     "prompt_number": 5
    },
    {
     "cell_type": "code",
     "collapsed": false,
     "input": [
      "def GenerateNormalizedArray(arraySizeX, arraySizeY, arrayOffsetX, arrayOffsetY):\n",
      "    radius = (min([arraySizeX, arraySizeY]) / 2.0)\n",
      "    \n",
      "    x = linspace((arrayOffsetX - arraySizeX / 2.0) / radius,\n",
      "                      (arrayOffsetX + arraySizeX / 2.0) / radius, arraySizeX)\n",
      "    y = linspace((arrayOffsetY - arraySizeY / 2.0) / radius,\n",
      "                      (arrayOffsetY + arraySizeY / 2.0) / radius, arraySizeY)\n",
      "    yy, xx = meshgrid(y,x)\n",
      "    return sqrt(xx**2 + yy**2)\n",
      "    "
     ],
     "language": "python",
     "metadata": {},
     "outputs": [],
     "prompt_number": 6
    },
    {
     "cell_type": "code",
     "collapsed": false,
     "input": [
      "def EstimatedPower(zSmax, Smax):\n",
      "    return 2 * zSmax / (Smax**2 + zSmax**2)"
     ],
     "language": "python",
     "metadata": {},
     "outputs": [],
     "prompt_number": 7
    },
    {
     "cell_type": "markdown",
     "metadata": {},
     "source": [
      "## Generate the aspheric surface and the base power surface without the aspheric terms"
     ]
    },
    {
     "cell_type": "code",
     "collapsed": false,
     "input": [
      "# Generate array normalized to the edge of the array\n",
      "s = GenerateNormalizedArray(arraySizeX, arraySizeY, arrayOffsetX, arrayOffsetY)\n",
      "\n",
      "# Generate array normalized to the pupil\n",
      "sNorm = s * arrayLength / diameter\n",
      "sNorm = ma.masked_greater(sNorm, 1.0)\n",
      "\n",
      "# Generate array of real lateral coordinates\n",
      "s = s * arrayLength / 2.0\n",
      "#s = ma.masked_greater(s,diameter / 2.0)\n",
      "s = ma.masked_array(s, dtype='float',mask=sNorm.mask)\n",
      "\n",
      "# Calculate the curvature in 1/mm\n",
      "c = 1.0 / radiusOfCurvature\n",
      "\n",
      "# Calcuate curvature in 1/mm for test wavefront\n",
      "cTest = 1.0 / radiusOfCurvatureTest\n",
      "\n",
      "# Convert coefficients from waves to mm\n",
      "a1 = a1 * wavelength / (10**6)\n",
      "a2 = a2 * wavelength / (10**6)\n",
      "a3 = a3 * wavelength / (10**6)\n",
      "a4 = a4 * wavelength / (10**6)\n",
      "\n",
      "# Get aspheric surface in units of mm\n",
      "surface = GetAsphericValue(c, k, s, sNorm, a1, a2, a3, a4)\n",
      "\n",
      "cPow = EstimatedPower(GetAsphericValue(c, k, diameter / 2.0, 1, a1, a2, a3, a4), diameter / 2.0)\n",
      "\n",
      "# Get base powered surface in units of mm\n",
      "power = GetAsphericValue(cPow, 0, s, sNorm, 0, 0, 0, 0)\n",
      "\n",
      "# Convert aspheric surface to units of waves\n",
      "surface = surface * (10**6) / wavelength\n",
      "power = power * (10**6) / wavelength\n",
      "\n",
      "# Calculate departure from sphere and slope of departure between samples\n",
      "delta = surface - power\n"
     ],
     "language": "python",
     "metadata": {},
     "outputs": [],
     "prompt_number": 8
    },
    {
     "cell_type": "markdown",
     "metadata": {},
     "source": [
      "## Plot Results"
     ]
    },
    {
     "cell_type": "code",
     "collapsed": false,
     "input": [
      "#imshow(surface);\n",
      "#title('Aspheric Surface');"
     ],
     "language": "python",
     "metadata": {},
     "outputs": [],
     "prompt_number": 9
    },
    {
     "cell_type": "code",
     "collapsed": false,
     "input": [
      "plot(s[:,arraySizeX/2.0],surface[:,arraySizeX/2.0]);\n",
      "xlim(0,arrayLength/2.0)\n",
      "grid(b=True, which='major', color='k', linestyle='-')\n",
      "title('Slice Through Aspheric Surface Center to Edge')\n",
      "ylabel('Sag (waves)')\n",
      "xlabel('Position (mm)');"
     ],
     "language": "python",
     "metadata": {},
     "outputs": [
      {
       "metadata": {},
       "output_type": "display_data",
       "png": "[encoded data removed]",
       "text": [
        "<matplotlib.figure.Figure at 0x10b560bd0>"
       ]
      }
     ],
     "prompt_number": 10
    },
    {
     "cell_type": "code",
     "collapsed": false,
     "input": [
      "plot(s[:,arraySizeX/2.0],(delta)[:,arraySizeX/2]);\n",
      "xlim(0,arrayLength/2.0)\n",
      "grid(b=True, which='major', color='k', linestyle='-')\n",
      "title('Slice Through Aspheric Departure Center to Edge')\n",
      "ylabel('Sag (waves)')\n",
      "xlabel('Position (mm)');"
     ],
     "language": "python",
     "metadata": {},
     "outputs": [
      {
       "metadata": {},
       "output_type": "display_data",
       "png": "[encoded data removed]",
       "text": [
        "<matplotlib.figure.Figure at 0x1104e3450>"
       ]
      }
     ],
     "prompt_number": 11
    },
    {
     "cell_type": "markdown",
     "metadata": {},
     "source": [
      "##Write 4Sight Compatible CSV File"
     ]
    },
    {
     "cell_type": "code",
     "collapsed": false,
     "input": [
      "# This strange maskFillValue was chosen to ensure that the header value and the \n",
      "# value in the array had exactly the same format.  \n",
      "# A better programmer would have handled this functionally rather than choosing \n",
      "# a specific value format.\n",
      "maskFillValue =  -123456.789123\n",
      "surface.fill_value = maskFillValue\n",
      "                                                                                             \n",
      "fileHeader = 'xsize: ' + str(int(arraySizeX)) + '\\nysize: ' + str(int(arraySizeY)) + \\\n",
      "                 '\\ntype: phase\\nbadpixel: ' + str(maskFillValue) + \\\n",
      "                     '\\ntitle: Aspheric Data From iPython\\nwedge: 0.50000\\nxpix: ' + \\\n",
      "                         str(arrayLength/arraySizeX/1000.0) + \\\n",
      "                             '\\naspect: 1.00000\\ndelimiter: csv\\nwavelength: ' + \\\n",
      "                                 str(wavelength) + '\\n\\n'\n",
      "                      \n",
      "np.savetxt(fileName, ma.filled(surface, maskFillValue), delimiter=',',fmt='%f',\n",
      "               header = fileHeader, comments='')"
     ],
     "language": "python",
     "metadata": {},
     "outputs": [],
     "prompt_number": 12
    },
    {
     "cell_type": "code",
     "collapsed": false,
     "input": [
      "# This strange maskFillValue was chosen to ensure that the header value and the \n",
      "# value in the array had exactly the same format.  \n",
      "# A better programmer would have handled this functionally rather than choosing \n",
      "# a specific value format.\n",
      "maskFillValue =  -123456.789123\n",
      "surface.fill_value = maskFillValue\n",
      "                                                                                             \n",
      "fileHeader = 'xsize: ' + str(int(arraySizeX)) + '\\nysize: ' + str(int(arraySizeY)) + \\\n",
      "                 '\\ntype: phase\\nbadpixel: ' + str(maskFillValue) + \\\n",
      "                     '\\ntitle: Aspheric Data From iPython\\nwedge: 0.50000\\nxpix: ' + \\\n",
      "                         str(arrayLength/arraySizeX/1000.0) + \\\n",
      "                             '\\naspect: 1.00000\\ndelimiter: csv\\nwavelength: ' + \\\n",
      "                                 str(wavelength) + '\\n\\n'\n",
      "                      \n",
      "np.savetxt(fileNameBFS, ma.filled(delta, maskFillValue), delimiter=',',fmt='%f',\n",
      "               header = fileHeader, comments='')"
     ],
     "language": "python",
     "metadata": {},
     "outputs": [],
     "prompt_number": 13
    }
   ],
   "metadata": {}
  }
 ]
}